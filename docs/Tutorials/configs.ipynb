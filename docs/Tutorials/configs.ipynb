{
 "cells": [
  {
   "cell_type": "markdown",
   "metadata": {},
   "source": [
    "# Understanding Deepdisc Configs"
   ]
  },
  {
   "cell_type": "markdown",
   "metadata": {},
   "source": [
    "Configs are used to specify model architectures, hyperparameters, and more.  For detailed descriptions, look to the detectron2 documentation.\n",
    "\n",
    "Here, we will go over a deepdisc config and all of the relevent fields"
   ]
  },
  {
   "cell_type": "code",
   "execution_count": 1,
   "metadata": {},
   "outputs": [
    {
     "ename": "ImportError",
     "evalue": "attempted relative import with no known parent package",
     "output_type": "error",
     "traceback": [
      "\u001b[0;31m---------------------------------------------------------------------------\u001b[0m",
      "\u001b[0;31mImportError\u001b[0m                               Traceback (most recent call last)",
      "Cell \u001b[0;32mIn[1], line 15\u001b[0m\n\u001b[1;32m      9\u001b[0m roi_thresh \u001b[38;5;241m=\u001b[39m \u001b[38;5;241m0.1\u001b[39m \u001b[38;5;66;03m#! check default\u001b[39;00m\n\u001b[1;32m     11\u001b[0m \u001b[38;5;66;03m# ---------------------------------------------------------------------------- #\u001b[39;00m\n\u001b[1;32m     12\u001b[0m \u001b[38;5;66;03m# Standard, Lazy-Config-style config values\u001b[39;00m\n\u001b[1;32m     13\u001b[0m \u001b[38;5;66;03m# ---------------------------------------------------------------------------- #\u001b[39;00m\n\u001b[1;32m     14\u001b[0m \u001b[38;5;66;03m# Baselines\u001b[39;00m\n\u001b[0;32m---> 15\u001b[0m \u001b[38;5;28;01mfrom\u001b[39;00m \u001b[38;5;21;01m.\u001b[39;00m\u001b[38;5;21;01m.\u001b[39;00m\u001b[38;5;21;01mCOCO\u001b[39;00m\u001b[38;5;21;01m.\u001b[39;00m\u001b[38;5;21;01mcascade_mask_rcnn_swin_b_in21k_50ep\u001b[39;00m \u001b[38;5;28;01mimport\u001b[39;00m (\n\u001b[1;32m     16\u001b[0m     dataloader,\n\u001b[1;32m     17\u001b[0m     lr_multiplier,\n\u001b[1;32m     18\u001b[0m     model,\n\u001b[1;32m     19\u001b[0m     optimizer,\n\u001b[1;32m     20\u001b[0m     train,\n\u001b[1;32m     21\u001b[0m )\n\u001b[1;32m     23\u001b[0m \u001b[38;5;66;03m# Overrides\u001b[39;00m\n\u001b[1;32m     24\u001b[0m dataloader\u001b[38;5;241m.\u001b[39mtrain\u001b[38;5;241m.\u001b[39mtotal_batch_size \u001b[38;5;241m=\u001b[39m \u001b[38;5;241m4\u001b[39m\n",
      "\u001b[0;31mImportError\u001b[0m: attempted relative import with no known parent package"
     ]
    }
   ],
   "source": [
    "\n",
    "from omegaconf import OmegaConf\n",
    "from deepdisc.model.models import RedshiftPDFCasROIHeads\n",
    "\n",
    "# ---------------------------------------------------------------------------- #\n",
    "# Local variables and metadata\n",
    "# ---------------------------------------------------------------------------- #\n",
    "\n",
    "classes = [\"object\"]\n",
    "roi_thresh = 0.1 #! check default\n",
    "\n",
    "# ---------------------------------------------------------------------------- #\n",
    "# Standard, Lazy-Config-style config values\n",
    "# ---------------------------------------------------------------------------- #\n",
    "# Baselines\n",
    "from ..COCO.cascade_mask_rcnn_swin_b_in21k_50ep import (\n",
    "    dataloader,\n",
    "    lr_multiplier,\n",
    "    model,\n",
    "    optimizer,\n",
    "    train,\n",
    ")\n",
    "\n",
    "# Overrides\n",
    "dataloader.train.total_batch_size = 4\n",
    "\n",
    "model.backbone.bottom_up.in_chans = 6\n",
    "model.pixel_mean = [0.05381286, 0.04986344, 0.07526361, 0.10420945, 0.14229655, 0.21245764]\n",
    "model.pixel_std = [2.9318833, 1.8443471, 2.581817, 3.5950038, 4.5809164, 7.302009]\n",
    "\n",
    "model.roi_heads.num_classes = len(classes)\n",
    "model.roi_heads.batch_size_per_image = 512\n",
    "model.roi_heads.num_components=5\n",
    "model.roi_heads._target_ = RedshiftPDFCasROIHeads\n",
    "model.roi_heads.zloss_factor = 1.0\n",
    "\n",
    "for box_predictor in model.roi_heads.box_predictors:\n",
    "    box_predictor.test_topk_per_image = 1000\n",
    "    box_predictor.test_score_thresh = roi_thresh\n",
    "\n",
    "model.proposal_generator.anchor_generator.sizes = [[8], [16], [32], [64], [128]]\n",
    "model.proposal_generator.pre_nms_topk = [6000, 6000]\n",
    "model.proposal_generator.post_nms_topk = [6000, 6000]\n",
    "model.proposal_generator.nms_thresh = 0.3\n",
    "\n",
    "# ---------------------------------------------------------------------------- #\n",
    "# Yacs-style config values\n",
    "# ---------------------------------------------------------------------------- #\n",
    "# Baselines\n",
    "from .yacs_style_defaults import (\n",
    "    MISC,\n",
    "    DATALOADER,\n",
    "    DATASETS,\n",
    "    GLOBAL,\n",
    "    INPUT,\n",
    "    MODEL,\n",
    "    SOLVER,\n",
    "    TEST,\n",
    ")\n",
    "\n",
    "# Overrides\n",
    "DATALOADER.NUM_WORKERS = 1\n",
    "\n",
    "DATASETS.TRAIN = \"astro_train\"  # Register Metadata\n",
    "DATASETS.TEST = \"astro_val\"\n",
    "\n",
    "MISC.classes = classes\n",
    "\n",
    "SOLVER.BASE_LR = 0.001\n",
    "SOLVER.IMS_PER_BATCH = 4\n",
    "\n",
    "TEST.DETECTIONS_PER_IMAGE = 1000\n"
   ]
  },
  {
   "cell_type": "code",
   "execution_count": null,
   "metadata": {},
   "outputs": [],
   "source": []
  }
 ],
 "metadata": {
  "kernelspec": {
   "display_name": "Python [conda env:.conda-ddrailnv]",
   "language": "python",
   "name": "conda-env-.conda-ddrailnv-py"
  },
  "language_info": {
   "codemirror_mode": {
    "name": "ipython",
    "version": 3
   },
   "file_extension": ".py",
   "mimetype": "text/x-python",
   "name": "python",
   "nbconvert_exporter": "python",
   "pygments_lexer": "ipython3",
   "version": "3.9.18"
  },
  "vscode": {
   "interpreter": {
    "hash": "31f2aee4e71d21fbe5cf8b01ff0e069b9275f58929596ceb00d14d90e3e16cd6"
   }
  }
 },
 "nbformat": 4,
 "nbformat_minor": 4
}
