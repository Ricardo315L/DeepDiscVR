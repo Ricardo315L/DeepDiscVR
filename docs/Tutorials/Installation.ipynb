{
 "cells": [
  {
   "cell_type": "markdown",
   "id": "b6a6fc5d-1560-459a-a586-538fdc7e0404",
   "metadata": {},
   "source": [
    "DeepDISC is built on detectron2.  Detectron2 allows for modular construction of models, as well as testing State-of-the-Art models.\n",
    "\n",
    "Before installing DeepDISC, it is recommended to create a virtual environment.  \n",
    "\n",
    "Within a fresh environment, install the packages in conda-env.yml  \n",
    "\n",
    "Then, install detectron2 and scarlet following the instructions on the webpages  \n",
    "\n",
    "Finally, install deepedisc with  \n"
   ]
  },
  {
   "cell_type": "markdown",
   "id": "a8e81758-d801-4f25-a954-7ae2134df936",
   "metadata": {},
   "source": [
    "git clone git@github.com:lincc-frameworks/deepdisc.git  \n",
    "cd deepdisc  \n",
    "pip install -e .  \n"
   ]
  },
  {
   "cell_type": "code",
   "execution_count": null,
   "id": "9bbb75c7-0cd9-4714-b214-e6f4ef07b4c6",
   "metadata": {},
   "outputs": [],
   "source": []
  }
 ],
 "metadata": {
  "kernelspec": {
   "display_name": "Python [conda env:.conda-ddrailnv]",
   "language": "python",
   "name": "conda-env-.conda-ddrailnv-py"
  },
  "language_info": {
   "codemirror_mode": {
    "name": "ipython",
    "version": 3
   },
   "file_extension": ".py",
   "mimetype": "text/x-python",
   "name": "python",
   "nbconvert_exporter": "python",
   "pygments_lexer": "ipython3",
   "version": "3.9.18"
  }
 },
 "nbformat": 4,
 "nbformat_minor": 5
}
