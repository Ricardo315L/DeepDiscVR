{
 "cells": [
  {
   "cell_type": "markdown",
   "id": "b6a6fc5d-1560-459a-a586-538fdc7e0404",
   "metadata": {},
   "source": [
    "# Installation"
   ]
  },
  {
   "cell_type": "code",
   "execution_count": null,
   "id": "ceb3b624-4458-47d8-9969-348111930a97",
   "metadata": {},
   "outputs": [],
   "source": [
    "DeepDISC is built on detectron2.  Detectron2 allows for modular construction of models, as well as testing State-of-the-Art models.\n",
    "\n",
    "Before installing DeepDISC, it is recommended to create a virtual environment.  \n",
    "\n",
    "Within a fresh environment, install the packages in conda-env.yml  \n",
    "\n",
    "Then, install detectron2 and scarlet following the instructions on the webpages  \n",
    "\n",
    "Finally, install deepedisc with  \n"
   ]
  },
  {
   "cell_type": "markdown",
   "id": "a8e81758-d801-4f25-a954-7ae2134df936",
   "metadata": {},
   "source": [
    "git clone git@github.com:lincc-frameworks/deepdisc.git  \n",
    "cd deepdisc  \n",
    "pip install -e .  \n"
   ]
  },
  {
   "cell_type": "markdown",
   "id": "91c9c604-72a7-4672-8d3e-08afbc46929b",
   "metadata": {},
   "source": [
    "test"
   ]
  },
  {
   "cell_type": "code",
   "execution_count": null,
   "id": "61cbe2e6-4a4c-40df-918a-bec99a24320d",
   "metadata": {},
   "outputs": [],
   "source": []
  }
 ],
 "metadata": {
  "kernelspec": {
   "display_name": "Python 3 (ipykernel)",
   "language": "python",
   "name": "python3"
  },
  "language_info": {
   "codemirror_mode": {
    "name": "ipython",
    "version": 3
   },
   "file_extension": ".py",
   "mimetype": "text/x-python",
   "name": "python",
   "nbconvert_exporter": "python",
   "pygments_lexer": "ipython3",
   "version": "3.9.18"
  }
 },
 "nbformat": 4,
 "nbformat_minor": 5
}
