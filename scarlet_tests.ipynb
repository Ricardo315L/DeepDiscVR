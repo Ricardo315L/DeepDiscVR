{
 "cells": [
  {
   "cell_type": "code",
   "execution_count": 1,
   "metadata": {},
   "outputs": [],
   "source": [
    "# Import Packages and setup\n",
    "import numpy as np\n",
    "import scarlet\n",
    "import sep \n",
    "import astropy.io.fits as fits\n",
    "from astropy.wcs import WCS\n",
    "from scarlet.display import AsinhMapping\n",
    "\n",
    "%matplotlib inline\n",
    "\n",
    "import matplotlib\n",
    "import matplotlib.pyplot as plt\n",
    "# use a better colormap and don't interpolate the pixels\n",
    "matplotlib.rc('image', cmap='gray', interpolation='none', origin='lower')"
   ]
  },
  {
   "cell_type": "code",
   "execution_count": 2,
   "metadata": {},
   "outputs": [
    {
     "name": "stdout",
     "output_type": "stream",
     "text": [
      "1.0.1+gfde109a\n",
      "1.20.1\n",
      "1.1.1\n"
     ]
    }
   ],
   "source": [
    "print(scarlet.__version__)\n",
    "print(np.__version__)\n",
    "print(sep.__version__)"
   ]
  },
  {
   "cell_type": "markdown",
   "metadata": {},
   "source": [
    "HSC data:\n",
    "    \n",
    "det: List of source positions and footprints detected on a coadd patch. (FITS BINTABLE)\n",
    "\n",
    "warp: Image of a single visit (CORR) transformed onto a destination tangential plane in a tract. (Multi-extension FITS IMAGE + BINTABLE)\n",
    "\n",
    "calexp: Coadd image in a single band, or resultant image from the Stack stage, which combines all the overlapped warp images. (Multi-extension FITS IMAGE + BINTABLE)"
   ]
  },
  {
   "cell_type": "code",
   "execution_count": 3,
   "metadata": {},
   "outputs": [
    {
     "data": {
      "text/plain": [
       "[<astropy.io.fits.hdu.image.PrimaryHDU object at 0x7fff556fab10>, <astropy.io.fits.hdu.image.ImageHDU object at 0x7fff55720390>, <astropy.io.fits.hdu.image.ImageHDU object at 0x7fff55726590>, <astropy.io.fits.hdu.image.ImageHDU object at 0x7fff556fad90>, <astropy.io.fits.hdu.table.BinTableHDU object at 0x7fff55726990>, <astropy.io.fits.hdu.table.BinTableHDU object at 0x7fff5572ee50>, <astropy.io.fits.hdu.table.BinTableHDU object at 0x7fff556b3190>, <astropy.io.fits.hdu.table.BinTableHDU object at 0x7fff556b9810>, <astropy.io.fits.hdu.table.BinTableHDU object at 0x7fff556bca50>, <astropy.io.fits.hdu.table.BinTableHDU object at 0x7fff556c0c10>, <astropy.io.fits.hdu.table.BinTableHDU object at 0x7fff556c4a10>, <astropy.io.fits.hdu.table.BinTableHDU object at 0x7fff556c7610>, <astropy.io.fits.hdu.table.BinTableHDU object at 0x7fff556cb410>, <astropy.io.fits.hdu.table.BinTableHDU object at 0x7fff556cf210>, <astropy.io.fits.hdu.table.BinTableHDU object at 0x7fff556cfcd0>, <astropy.io.fits.hdu.table.BinTableHDU object at 0x7fff556d2c10>, <astropy.io.fits.hdu.table.BinTableHDU object at 0x7fff556d4a10>, <astropy.io.fits.hdu.table.BinTableHDU object at 0x7fff556d9810>, <astropy.io.fits.hdu.table.BinTableHDU object at 0x7fff556dcb90>]"
      ]
     },
     "execution_count": 3,
     "metadata": {},
     "output_type": "execute_result"
    }
   ],
   "source": [
    "# Load the HSC image data\n",
    "obs_hdu = fits.open('../../HSC/hsc-release.mtk.nao.ac.jp/archive/filetree/s16a_udeep/deepCoadd/HSC-G/10054/0,0/calexp-HSC-G-10054-0,0.fits.gz')\n",
    "obs_hdu"
   ]
  },
  {
   "cell_type": "code",
   "execution_count": 4,
   "metadata": {},
   "outputs": [
    {
     "name": "stdout",
     "output_type": "stream",
     "text": [
      "[[ 0.03630908 -0.04750747  0.01221577 ...  0.00250312  0.00250251\n",
      "   0.0025019 ]\n",
      " [ 0.03577255 -0.06356671 -0.01168542 ...  0.00250342  0.00250281\n",
      "   0.0025022 ]\n",
      " [ 0.00729306 -0.00223656  0.01258546 ...  0.00250371  0.0025031\n",
      "   0.00250249]\n",
      " ...\n",
      " [ 0.001369    0.00136958  0.00137015 ...  0.00370985  0.00371042\n",
      "   0.00371099]\n",
      " [ 0.00136812  0.00136869  0.00136926 ...  0.00371015  0.00371072\n",
      "   0.00371129]\n",
      " [ 0.00136723  0.0013678   0.00136838 ...  0.00371044  0.00371101\n",
      "   0.00371158]] WCS Keywords\n",
      "\n",
      "Number of WCS axes: 2\n",
      "CTYPE : 'RA---TAN'  'DEC--TAN'  \n",
      "CRVAL : 148.760330578512  3.71900826446281  \n",
      "CRPIX : 18000.0  18000.0  \n",
      "CD1_1 CD1_2  : -4.66666666666667e-05  0.0  \n",
      "CD2_1 CD2_2  : 0.0  4.66666666666667e-05  \n",
      "NAXIS : 4100  4100\n",
      "4100\n"
     ]
    }
   ],
   "source": [
    "data_hsc = obs_hdu[1].data\n",
    "wcs_hsc = WCS(obs_hdu[1].header)\n",
    "channels_hsc = ['g']\n",
    "\n",
    "print(data_hsc, wcs_hsc)\n",
    "print(data_hsc.shape[0])"
   ]
  },
  {
   "cell_type": "code",
   "execution_count": 5,
   "metadata": {},
   "outputs": [
    {
     "name": "stdout",
     "output_type": "stream",
     "text": [
      "[('cmodel.dev.flux',  11) ('cmodel.dev.flux.err',  12)\n",
      " ('cmodel.exp.flux',  13) ('cmodel.exp.flux.err',  14)\n",
      " ('cmodel.flux',  15) ('cmodel.flux.err',  16) ('flux.gaussian',  17)\n",
      " ('flux.gaussian.err',  18) ('flux.kron',  19) ('flux.kron.err',  20)\n",
      " ('flux.psf',  21) ('flux.psf.err',  22) ('cmodel.dev.flux',  27)\n",
      " ('cmodel.dev.flux.err',  28) ('cmodel.exp.flux',  29)\n",
      " ('cmodel.exp.flux.err',  30) ('cmodel.flux',  31)\n",
      " ('cmodel.flux.err',  32) ('flux.gaussian',  33)\n",
      " ('flux.gaussian.err',  34) ('flux.kron',  35) ('flux.kron.err',  36)\n",
      " ('flux.psf',  37) ('flux.psf.err',  38) ('cmodel.dev.flux',  43)\n",
      " ('cmodel.dev.flux.err',  44) ('cmodel.exp.flux',  45)\n",
      " ('cmodel.exp.flux.err',  46) ('cmodel.flux',  47)\n",
      " ('cmodel.flux.err',  48) ('flux.gaussian',  49)\n",
      " ('flux.gaussian.err',  50) ('flux.kron',  51) ('flux.kron.err',  52)\n",
      " ('flux.psf',  53) ('flux.psf.err',  54) ('cmodel.dev.flux',  59)\n",
      " ('cmodel.dev.flux.err',  60) ('cmodel.exp.flux',  61)\n",
      " ('cmodel.exp.flux.err',  62) ('cmodel.flux',  63)\n",
      " ('cmodel.flux.err',  64) ('flux.gaussian',  65)\n",
      " ('flux.gaussian.err',  66) ('flux.kron',  67) ('flux.kron.err',  68)\n",
      " ('flux.psf',  69) ('flux.psf.err',  70) ('cmodel.dev.flux',  75)\n",
      " ('cmodel.dev.flux.err',  76) ('cmodel.exp.flux',  77)\n",
      " ('cmodel.exp.flux.err',  78) ('cmodel.flux',  79)\n",
      " ('cmodel.flux.err',  80) ('flux.gaussian',  81)\n",
      " ('flux.gaussian.err',  82) ('flux.kron',  83) ('flux.kron.err',  84)\n",
      " ('flux.psf',  85) ('flux.psf.err',  86) ('cmodel.dev.flux',  91)\n",
      " ('cmodel.dev.flux.err',  92) ('cmodel.exp.flux',  93)\n",
      " ('cmodel.exp.flux.err',  94) ('cmodel.flux',  95)\n",
      " ('cmodel.flux.err',  96) ('flux.gaussian',  97)\n",
      " ('flux.gaussian.err',  98) ('flux.kron',  99) ('flux.kron.err', 100)\n",
      " ('flux.psf', 101) ('flux.psf.err', 102) ('cmodel.dev.flux', 107)\n",
      " ('cmodel.dev.flux.err', 108) ('cmodel.exp.flux', 109)\n",
      " ('cmodel.exp.flux.err', 110) ('cmodel.flux', 111)\n",
      " ('cmodel.flux.err', 112) ('flux.gaussian', 113)\n",
      " ('flux.gaussian.err', 114) ('flux.kron', 115) ('flux.kron.err', 116)\n",
      " ('flux.psf', 117) ('flux.psf.err', 118) ('cmodel.dev.flux', 123)\n",
      " ('cmodel.dev.flux.err', 124) ('cmodel.exp.flux', 125)\n",
      " ('cmodel.exp.flux.err', 126) ('cmodel.flux', 127)\n",
      " ('cmodel.flux.err', 128) ('flux.gaussian', 129)\n",
      " ('flux.gaussian.err', 130) ('flux.kron', 131) ('flux.kron.err', 132)\n",
      " ('flux.psf', 133) ('flux.psf.err', 134) ('cmodel.dev.flux', 139)\n",
      " ('cmodel.dev.flux.err', 140) ('cmodel.exp.flux', 141)\n",
      " ('cmodel.exp.flux.err', 142) ('cmodel.flux', 143)\n",
      " ('cmodel.flux.err', 144) ('flux.gaussian', 145)\n",
      " ('flux.gaussian.err', 146) ('flux.kron', 147) ('flux.kron.err', 148)\n",
      " ('flux.psf', 149) ('flux.psf.err', 150) ('cmodel.dev.flux', 153)\n",
      " ('cmodel.dev.flux.err', 155) ('cmodel.exp.flux', 156)\n",
      " ('cmodel.exp.flux.err', 157) ('cmodel.flux', 158)\n",
      " ('cmodel.flux.err', 159) ('flux.gaussian', 160)\n",
      " ('flux.gaussian.err', 161) ('flux.kron', 162) ('flux.kron.err', 163)\n",
      " ('flux.psf', 164) ('flux.psf.err', 165)]\n",
      "XTENSION= 'BINTABLE'           / binary table extension                         BITPIX  =                    8 / 8-bit bytes                                    NAXIS   =                    2 / 2-dimensional binary table                     NAXIS1  =                   68 / width of table in bytes                        NAXIS2  =                  120 / number of rows in table                        PCOUNT  =                    0 / size of special data area                      GCOUNT  =                    1 / one data group (required keyword)              TFIELDS =                    2 / number of fields in each row                   TTYPE1  = 'name    '           / name of the aperture correction                TFORM1  = '64A     '           / format of field                                TDOC1   = 'name of the aperture correction'                                     TCCLS1  = 'String  '           / Field template used by lsst.afw.table          TTYPE2  = 'field   '           / archive ID of the BoundedField object          TFORM2  = '1J      '           / format of field                                TDOC2   = 'archive ID of the BoundedField object'                               TCCLS2  = 'Scalar  '           / Field template used by lsst.afw.table          EXTTYPE = 'ARCHIVE_DATA'                                                        EXTNAME = 'ARCHIVE_DATA'                                                        AR_CATN =                    7 / # of this catalog relative to the start of thisAR_NAME = 'ApCorrMap'          / Class name for objects stored here             AR_NAME = 'ApCorrMap'          / Class name for objects stored here             AR_NAME = 'ApCorrMap'          / Class name for objects stored here             AR_NAME = 'ApCorrMap'          / Class name for objects stored here             AR_NAME = 'ApCorrMap'          / Class name for objects stored here             AR_NAME = 'ApCorrMap'          / Class name for objects stored here             AR_NAME = 'ApCorrMap'          / Class name for objects stored here             AR_NAME = 'ApCorrMap'          / Class name for objects stored here             AR_NAME = 'ApCorrMap'          / Class name for objects stored here             AR_NAME = 'ApCorrMap'          / Class name for objects stored here             END                                                                                                                                                                                                                                                                                                                                                                                                                                                                                                                                                                             \n"
     ]
    }
   ],
   "source": [
    "num=11\n",
    "\n",
    "print(obs_hdu[num].data)\n",
    "print(obs_hdu[num].header)"
   ]
  },
  {
   "cell_type": "code",
   "execution_count": 6,
   "metadata": {},
   "outputs": [
    {
     "data": {
      "text/plain": [
       "('flux.psf', 21)"
      ]
     },
     "execution_count": 6,
     "metadata": {},
     "output_type": "execute_result"
    }
   ],
   "source": [
    "obs_hdu[11].data[10]"
   ]
  },
  {
   "cell_type": "code",
   "execution_count": 7,
   "metadata": {},
   "outputs": [],
   "source": [
    "# How do I get PSF??"
   ]
  },
  {
   "cell_type": "code",
   "execution_count": null,
   "metadata": {},
   "outputs": [],
   "source": []
  },
  {
   "cell_type": "code",
   "execution_count": null,
   "metadata": {},
   "outputs": [],
   "source": []
  },
  {
   "cell_type": "markdown",
   "metadata": {},
   "source": [
    "# Show HSC data"
   ]
  },
  {
   "cell_type": "code",
   "execution_count": 8,
   "metadata": {},
   "outputs": [
    {
     "name": "stdout",
     "output_type": "stream",
     "text": [
      "178.94392 -0.99015415\n"
     ]
    }
   ],
   "source": [
    "print(obs_hdu[1].data.max(), obs_hdu[1].data.min())"
   ]
  },
  {
   "cell_type": "code",
   "execution_count": 9,
   "metadata": {},
   "outputs": [
    {
     "data": {
      "image/png": "[encoded data removed]",
      "text/plain": [
       "<Figure size 432x288 with 1 Axes>"
      ]
     },
     "metadata": {
      "needs_background": "light"
     },
     "output_type": "display_data"
    },
    {
     "name": "stdout",
     "output_type": "stream",
     "text": [
      "(100, 100, 3)\n"
     ]
    }
   ],
   "source": [
    "from scarlet.display import AsinhMapping\n",
    "\n",
    "stretch = 0.2\n",
    "Q = 5\n",
    "norm = AsinhMapping(minimum=0, stretch=stretch, Q=Q)\n",
    "img_rgb = scarlet.display.img_to_rgb(obs_hdu[1].data, norm=norm) #greyscale image b/c just G filter\n",
    "img_rgb_cut = img_rgb[0:100, 0:100]\n",
    "plt.imshow(img_rgb_cut)\n",
    "plt.show()\n",
    "\n",
    "print(img_rgb_cut.shape) #channels, height, width"
   ]
  },
  {
   "cell_type": "markdown",
   "metadata": {},
   "source": [
    "# Show Scarlet display psf"
   ]
  },
  {
   "cell_type": "code",
   "execution_count": 10,
   "metadata": {},
   "outputs": [
    {
     "name": "stdout",
     "output_type": "stream",
     "text": [
      "(3, 100, 100)\n"
     ]
    }
   ],
   "source": [
    "swap_img_rgb_cut = np.swapaxes(img_rgb_cut,0,2)\n",
    "print(swap_img_rgb_cut.shape) #channels, height, width"
   ]
  },
  {
   "cell_type": "code",
   "execution_count": 11,
   "metadata": {},
   "outputs": [],
   "source": [
    "# Model\n",
    "\n",
    "model_psf = scarlet.GaussianPSF(sigma=(0.8,)*len(channels_hsc))\n",
    "\n",
    "model_frame = scarlet.Frame(\n",
    "    swap_img_rgb_cut.shape,\n",
    "    #wcs=wcs_hsc,\n",
    "    psf=model_psf,\n",
    "    channels=['g', 'g1', 'g2']) #two fake channels from greyscale to RGB... will have to fix"
   ]
  },
  {
   "cell_type": "code",
   "execution_count": 12,
   "metadata": {},
   "outputs": [],
   "source": [
    "# HSC observation frame from data\n",
    "\n",
    "observation = scarlet.Observation(\n",
    "    swap_img_rgb_cut,\n",
    "    #wcs=wcs_hsc,\n",
    "    psf= scarlet.GaussianPSF(sigma=(0.3,)*len(channels_hsc)),\n",
    "    weights=None, \n",
    "    channels=['g', 'g1', 'g2']).match(model_frame)"
   ]
  },
  {
   "cell_type": "code",
   "execution_count": 13,
   "metadata": {},
   "outputs": [],
   "source": [
    "# I NEED DETECTION CATALOG FOR \"CENTERS\" in\n",
    "# scarlet.display.show_observation(observation, norm=norm, sky_coords=centers, show_psf=True)\n",
    "\n",
    "# Build detection catalog"
   ]
  },
  {
   "cell_type": "code",
   "execution_count": 14,
   "metadata": {},
   "outputs": [
    {
     "name": "stdout",
     "output_type": "stream",
     "text": [
      "11\n",
      "100\n",
      "[(3.,  384,  268, 73, 92, 29, 55, 80.27659447, 44.21475197,  18.67715932,  36.87754035,   -4.08981436, 1.16541012e-06, 2.10842185e-06, -4.27480387e-07,  6.14445496,  4.21904898, -1.35961032, 0.05487394, 0.02779169,  0.01217132,  93647.25  ,  94032.,  848.8125, 1052.99987793, 81, 44, 81, 44, 1)\n",
      " (3.,  296,  209, 54, 76, 35, 54, 65.13736882, 44.68227123,  15.22553966,  14.7360249 ,   -0.73928943, 8.67225988e-07, 8.03835042e-07,  3.02145832e-09,  3.96982813,  3.76855803, -0.62554157, 0.0658395 , 0.06802662,  0.00660618,  95304.375 ,  95013., 1222.875 , 1296.        , 65, 44, 65, 44, 1)\n",
      " (3.,  386,  270, 49, 83, 22, 39, 62.99611386, 29.86386681,  53.32579728,  12.58508048,   -4.11975128, 3.30550731e-06, 8.13943920e-07, -4.22735817e-07,  7.33063555,  3.48893404, -0.09977542, 0.01923921, 0.08152083,  0.01259599,  88546.5   ,  89676.,  761.625 , 1008.        , 64, 30, 65, 29, 1)\n",
      " (3.,  488,  252, 83, 99, 27, 73, 96.64701153, 61.74096008,  20.45194098, 185.90911219,   22.7052951 , 2.35347002e-06, 2.46745112e-05,  2.30171707e-06, 13.74657536,  4.17045689,  1.43686652, 0.05656455, 0.00622269, -0.01381659,  72432.    ,  74646.,  870.75  , 1026.        , 98, 64, 99, 64, 3)\n",
      " (3., 2827, 1538, 18, 86, 33, 99, 56.57173181, 76.32957787, 202.94271491, 186.38532256,  -11.98496485, 4.35221906e-06, 3.75790290e-06, -3.12973803e-07, 14.46479511, 13.42005062, -0.48315042, 0.00494628, 0.00538568,  0.00063611, 422783.4375, 423801., 1169.4375, 1251.        , 56, 73, 56, 73, 1)\n",
      " (3., 1100,  549, 11, 99,  0, 36, 32.9393899 , 22.52821322, 371.57135002, 116.87431317, -129.62604344, 3.37678096e-05, 9.29162397e-06, -1.20264222e-05, 20.63827515,  7.90615225, -0.3971304 , 0.00438977, 0.01395613,  0.00973745, 124650.5625, 127638.,  293.625 ,  693.        , 45,  3, 44, 11, 1)\n",
      " (3.,  568,  290, 22, 45, 32, 70, 30.6413359 , 47.06608483,  32.03266998,  71.43637057,   -4.48277586, 3.91100865e-06, 9.80983438e-06, -8.74744236e-07,  8.48174   ,  5.61507988, -1.45893538, 0.03149471, 0.01412249,  0.00395271,  69133.5   ,  70506.,  394.3125,  693.        , 24, 41, 35, 49, 1)\n",
      " (3., 1866, 1013,  0, 28, 15, 99, 11.12622799, 45.56717465,  39.16737394, 487.0500617 ,   14.60791924, 1.06042122e-06, 1.55181678e-05,  3.51322084e-07, 22.07999039,  6.22024393,  1.53822696, 0.02582028, 0.0020764 , -0.00154884, 292844.8125, 294192., 1149.1875, 1260.00012207, 12, 45, 12, 45, 3)\n",
      " (3., 1087,  510, 47, 99,  0, 29, 61.16470404, 14.07275663, 349.42005489,  46.11526048,   25.17530217, 2.75184849e-05, 3.51540501e-06,  1.96284100e-06, 18.74821281,  6.63625097,  0.0822532 , 0.00297906, 0.02257265, -0.00325266, 122871.9375, 123111.,  414.    ,  765.        , 60, 14, 80,  9, 1)\n",
      " (3.,  495,  234,  0, 39,  0, 16,  9.69917947,  5.01733332, 142.01393724,  21.00765072,   -3.15310272, 2.19269311e-05, 4.08722445e-06, -2.16719519e-07, 11.92040443,  4.57444477, -0.02603379, 0.00706511, 0.04776087,  0.00212085,  53285.625 ,  54675.,  265.5   ,  630.00006104, 18, 10, 17,  0, 3)\n",
      " (3.,  448,  196, 83, 99, 68, 99, 93.74784275, 85.92564594,  19.99561668,  73.05013895,    3.10921815, 5.41711452e-06, 1.81744752e-05,  9.90273874e-07,  8.55755424,  4.4512949 ,  1.51245832, 0.05034415, 0.01378043, -0.00428558,  43724.25  ,  44775.,  274.5   ,  630.00006104, 97, 77, 97, 78, 3)]\n",
      "[[387.00003 378.       81.      ... 126.        0.        0.     ]\n",
      " [  0.        0.        0.      ...   0.       81.      278.99997]\n",
      " [135.        0.      144.      ...   0.        0.        0.     ]\n",
      " ...\n",
      " [135.      396.00003  54.      ...   0.      162.        0.     ]\n",
      " [  0.      378.      423.      ...   0.        0.        0.     ]\n",
      " [  0.        0.        0.      ... 216.      387.00003  54.     ]]\n",
      "[1.0, 1.0, 1.0]\n",
      "[[[1. 1. 1. ... 1. 1. 1.]\n",
      "  [1. 1. 1. ... 1. 1. 1.]\n",
      "  [1. 1. 1. ... 1. 1. 1.]\n",
      "  ...\n",
      "  [1. 1. 1. ... 1. 1. 1.]\n",
      "  [1. 1. 1. ... 1. 1. 1.]\n",
      "  [1. 1. 1. ... 1. 1. 1.]]\n",
      "\n",
      " [[1. 1. 1. ... 1. 1. 1.]\n",
      "  [1. 1. 1. ... 1. 1. 1.]\n",
      "  [1. 1. 1. ... 1. 1. 1.]\n",
      "  ...\n",
      "  [1. 1. 1. ... 1. 1. 1.]\n",
      "  [1. 1. 1. ... 1. 1. 1.]\n",
      "  [1. 1. 1. ... 1. 1. 1.]]\n",
      "\n",
      " [[1. 1. 1. ... 1. 1. 1.]\n",
      "  [1. 1. 1. ... 1. 1. 1.]\n",
      "  [1. 1. 1. ... 1. 1. 1.]\n",
      "  ...\n",
      "  [1. 1. 1. ... 1. 1. 1.]\n",
      "  [1. 1. 1. ... 1. 1. 1.]\n",
      "  [1. 1. 1. ... 1. 1. 1.]]]\n"
     ]
    },
    {
     "name": "stderr",
     "output_type": "stream",
     "text": [
      "/home/paleo2/.conda/envs/astro-det-scarlet2/lib/python3.7/site-packages/ipykernel_launcher.py:71: DeprecationWarning: `np.int` is a deprecated alias for the builtin `int`. To silence this warning, use `int` by itself. Doing this will not modify any behavior and is safe. When replacing `np.int`, you may wish to use e.g. `np.int64` or `np.int32` to specify the precision. If you wish to review your current use, check the release note link for additional information.\n",
      "Deprecated in NumPy 1.20; for more details and guidance: https://numpy.org/devdocs/release/1.20.0-notes.html#deprecations\n"
     ]
    }
   ],
   "source": [
    "# Here is original\n",
    "\"\"\"\n",
    "def makeCatalog(obs_lr, obs_hr, lvl = 3, wave = True):\n",
    "    # Create a catalog of detected source by running SEP on the wavelet transform \n",
    "    # of the sum of the high resolution images and the low resolution images interpolated to the high resolution grid\n",
    "    #Interpolate LR to HR\n",
    "    interp = scarlet.interpolation.interpolate_observation(obs_lr, obs_hr)\n",
    "    # Normalisation \n",
    "    interp = interp/np.sum(interp, axis = (1,2))[:,None, None]\n",
    "    hr_images = obs_hr.data/np.sum(obs_hr.data, axis = (1,2))[:,None, None]\n",
    "    # Summation to create a detection image\n",
    "    detect_image = np.sum(interp, axis = 0) + np.sum(hr_images, axis = 0)\n",
    "    # Rescaling to HR image flux\n",
    "    detect_image *= np.sum(obs_hr.data)\n",
    "    # Wavelet transform\n",
    "    wave_detect = scarlet.Starlet(detect_image, lvl=lvl, direct = False).coefficients[0]\n",
    "    \n",
    "    if wave:\n",
    "        # Creates detection from the first 3 wavelet levels\n",
    "        detect = wave_detect[:lvl,:,:].sum(axis = 0)\n",
    "    else:\n",
    "        detect = detect_image\n",
    "\n",
    "        # Runs SEP detection\n",
    "    bkg = sep.Background(detect)\n",
    "    catalog = sep.extract(detect, 3, err=bkg.globalrms)\n",
    "    bg_rms = []\n",
    "    for img in [obs_lr.data, obs_hr.data]:\n",
    "        if np.size(img.shape) == 3:\n",
    "            bg_rms.append(np.array([sep.Background(band).globalrms for band in img]))\n",
    "        else:\n",
    "            bg_rms.append(sep.Background(img).globalrms)\n",
    "        \n",
    "    return catalog, bg_rms, detect_image\n",
    "\"\"\"\n",
    "\n",
    "# my modification\n",
    "\n",
    "# In ~/.conda/envs/astro-det-scarlet2/lib/python3.7/site-packages/scarlet-1.0.1+gfde109a-py3.7-linux-ppc64le.egg/scarlet/renderer.py\n",
    "# change np.int() to int() --> not supported in numpy 1.20.1, depreciation throws error\n",
    "\n",
    "# In ~/.conda/envs/astro-det-scarlet2/lib/python3.7/site-packages/scarlet-1.0.1+gfde109a-py3.7-linux-ppc64le.egg/scarlet/wavelet.py\n",
    "# change np.int() to int() not supported in numpy 1.20.1, depreciation throws error\n",
    "        \n",
    "obs_hsc = observation    \n",
    "    \n",
    "def makeCatalog(obs_hr, lvl = 3, wave = True):\n",
    "    hr_images = obs_hr.data/np.sum(obs_hr.data, axis = (1,2))[:,None, None]\n",
    "    # Summation to create a detection image\n",
    "    #detect_image = np.sum(interp, axis = 0) + np.sum(hr_images, axis = 0)\n",
    "    detect_image = np.sum(hr_images, axis = 0)\n",
    "    # Rescaling to HR image flux\n",
    "    detect_image *= np.sum(obs_hr.data)\n",
    "    # Wavelet transform\n",
    "    wave_detect = scarlet.Starlet(detect_image, direct = False).coefficients[0]\n",
    "    \n",
    "    if wave:\n",
    "        # Creates detection from the first 3 wavelet levels\n",
    "        detect = wave_detect[:lvl,:,:].sum(axis = 0)\n",
    "        #print(detect)\n",
    "    else:\n",
    "        detect = detect_image\n",
    "        print(detect)\n",
    "        \n",
    "        # Runs SEP detection\n",
    "    #detect = detect_image\n",
    "    #print(detect.flags) # C_CONTIGUOUS : False throws ValueError: array is not C-contiguous\n",
    "    detect = detect_image.copy(order='C')\n",
    "    \n",
    "    bkg = sep.Background(detect)\n",
    "    catalog = sep.extract(detect, 3, err=bkg.globalrms)\n",
    "    bg_rms = []\n",
    "    for img in obs_hr.data:\n",
    "        if np.size(img.shape) == 3:\n",
    "            bg_rms.append(np.array([sep.Background(band).globalrms for band in img]))\n",
    "        else:\n",
    "            bg_rms.append(sep.Background(img.copy(order='C')).globalrms) #same C-order issue\n",
    "        \n",
    "    return catalog, bg_rms, detect_image\n",
    "\n",
    "# Making catalog. \n",
    "# With the wavelet option on, only the first 3 wavelet levels are used for detection. Set to 1 for better detection\n",
    "wave = 1\n",
    "lvl = 3\n",
    "catalog_hsc, bg_hsc, detect = makeCatalog(obs_hsc, lvl, wave)\n",
    "\n",
    "# we can now set the empirical noise rms for both observations\n",
    "obs_hsc.weights = np.ones(obs_hsc.shape) / (np.array(bg_hsc)**2)[:, None, None]  #make array!\n",
    "\n",
    "print(len(catalog_hsc))\n",
    "print(len(detect))\n",
    "\n",
    "print(catalog_hsc)\n",
    "print(detect)\n",
    "\n",
    "print(bg_hsc) # SHOULD NOT BE ALL 1's!\n",
    "print(obs_hsc.weights)"
   ]
  },
  {
   "cell_type": "code",
   "execution_count": null,
   "metadata": {},
   "outputs": [],
   "source": []
  },
  {
   "cell_type": "code",
   "execution_count": null,
   "metadata": {},
   "outputs": [],
   "source": []
  },
  {
   "cell_type": "code",
   "execution_count": 15,
   "metadata": {},
   "outputs": [
    {
     "data": {
      "image/png": "[encoded data removed]",
      "text/plain": [
       "<Figure size 576x288 with 2 Axes>"
      ]
     },
     "metadata": {
      "needs_background": "light"
     },
     "output_type": "display_data"
    }
   ],
   "source": [
    "# Create a color mapping for the HSC image\n",
    "norm_hsc = AsinhMapping(minimum=-1, stretch=5, Q=3)\n",
    "norms = norm_hsc\n",
    "\n",
    "# Get the source coordinates from the HST catalog\n",
    "pixel_hsc = np.stack((catalog_hsc['y'], catalog_hsc['x']), axis=1)\n",
    "# Convert the HST coordinates to the HSC WCS\n",
    "ra_dec = obs_hsc.get_sky_coord(pixel_hsc)\n",
    "\n",
    "\n",
    "# Model\n",
    "\n",
    "model_psf = scarlet.GaussianPSF(sigma=(0.8,)*len(channels_hsc))\n",
    "\n",
    "model_frame = scarlet.Frame(\n",
    "    swap_img_rgb_cut.shape,\n",
    "    #wcs=wcs_hsc,\n",
    "    psf=model_psf,\n",
    "    channels=['g', 'g1', 'g2']) #two fake channels from greyscale to RGB... will have to fix\n",
    "\n",
    "# Observation Frame w/ Weights! (TODO: fix so all weights isn't 1)\n",
    "\n",
    "observation = scarlet.Observation(\n",
    "    swap_img_rgb_cut,\n",
    "    #wcs=wcs_hsc,\n",
    "    psf= scarlet.GaussianPSF(sigma=(0.6,)*len(channels_hsc)),\n",
    "    weights=obs_hsc.weights, \n",
    "    channels=['g', 'g1', 'g2']).match(model_frame)\n",
    "\n",
    "scarlet.display.show_observation(observation, norm=norm, sky_coords=ra_dec, show_psf=True)\n",
    "plt.show()"
   ]
  },
  {
   "cell_type": "code",
   "execution_count": 16,
   "metadata": {},
   "outputs": [
    {
     "data": {
      "text/plain": [
       "array([[44.21475197, 80.27659447],\n",
       "       [44.68227123, 65.13736882],\n",
       "       [29.86386681, 62.99611386],\n",
       "       [61.74096008, 96.64701153],\n",
       "       [76.32957787, 56.57173181],\n",
       "       [22.52821322, 32.9393899 ],\n",
       "       [47.06608483, 30.6413359 ],\n",
       "       [45.56717465, 11.12622799],\n",
       "       [14.07275663, 61.16470404],\n",
       "       [ 5.01733332,  9.69917947],\n",
       "       [85.92564594, 93.74784275]])"
      ]
     },
     "execution_count": 16,
     "metadata": {},
     "output_type": "execute_result"
    }
   ],
   "source": [
    "centers = ra_dec\n",
    "centers"
   ]
  },
  {
   "cell_type": "code",
   "execution_count": null,
   "metadata": {},
   "outputs": [],
   "source": []
  },
  {
   "cell_type": "code",
   "execution_count": 17,
   "metadata": {},
   "outputs": [
    {
     "name": "stderr",
     "output_type": "stream",
     "text": [
      "Failed to initialize source 0\n",
      "Failed to initialize source 1\n",
      "Failed to initialize source 2\n",
      "Failed to initialize source 3\n",
      "Failed to initialize source 4\n",
      "Failed to initialize source 5\n",
      "Failed to initialize source 6\n",
      "Failed to initialize source 7\n",
      "Failed to initialize source 8\n",
      "Failed to initialize source 9\n",
      "Failed to initialize source 10\n"
     ]
    },
    {
     "ename": "IndexError",
     "evalue": "too many indices for array: array is 1-dimensional, but 4 were indexed",
     "output_type": "error",
     "traceback": [
      "\u001b[0;31m---------------------------------------------------------------------------\u001b[0m",
      "\u001b[0;31mIndexError\u001b[0m                                Traceback (most recent call last)",
      "\u001b[0;32m<ipython-input-17-1c2a8639aaa1>\u001b[0m in \u001b[0;36m<module>\u001b[0;34m\u001b[0m\n\u001b[1;32m      7\u001b[0m                                                            \u001b[0mfallback\u001b[0m\u001b[0;34m=\u001b[0m\u001b[0;32mTrue\u001b[0m\u001b[0;34m,\u001b[0m\u001b[0;34m\u001b[0m\u001b[0;34m\u001b[0m\u001b[0m\n\u001b[1;32m      8\u001b[0m                                                            \u001b[0msilent\u001b[0m\u001b[0;34m=\u001b[0m\u001b[0;32mTrue\u001b[0m\u001b[0;34m,\u001b[0m\u001b[0;34m\u001b[0m\u001b[0;34m\u001b[0m\u001b[0m\n\u001b[0;32m----> 9\u001b[0;31m                                                            \u001b[0mset_spectra\u001b[0m\u001b[0;34m=\u001b[0m\u001b[0;32mTrue\u001b[0m\u001b[0;34m\u001b[0m\u001b[0;34m\u001b[0m\u001b[0m\n\u001b[0m\u001b[1;32m     10\u001b[0m                                                           )\n\u001b[1;32m     11\u001b[0m \u001b[0;34m\u001b[0m\u001b[0m\n",
      "\u001b[0;32m~/.conda/envs/astro-det-scarlet2/lib/python3.7/site-packages/scarlet-1.0.1+gfde109a-py3.7-linux-ppc64le.egg/scarlet/initialization.py\u001b[0m in \u001b[0;36minit_all_sources\u001b[0;34m(frame, centers, observations, thresh, max_components, min_snr, shifting, fallback, silent, set_spectra)\u001b[0m\n\u001b[1;32m    386\u001b[0m \u001b[0;34m\u001b[0m\u001b[0m\n\u001b[1;32m    387\u001b[0m     \u001b[0;32mif\u001b[0m \u001b[0mset_spectra\u001b[0m\u001b[0;34m:\u001b[0m\u001b[0;34m\u001b[0m\u001b[0;34m\u001b[0m\u001b[0m\n\u001b[0;32m--> 388\u001b[0;31m         \u001b[0mset_spectra_to_match\u001b[0m\u001b[0;34m(\u001b[0m\u001b[0msources\u001b[0m\u001b[0;34m,\u001b[0m \u001b[0mobservations\u001b[0m\u001b[0;34m)\u001b[0m\u001b[0;34m\u001b[0m\u001b[0;34m\u001b[0m\u001b[0m\n\u001b[0m\u001b[1;32m    389\u001b[0m \u001b[0;34m\u001b[0m\u001b[0m\n\u001b[1;32m    390\u001b[0m     \u001b[0;32mreturn\u001b[0m \u001b[0msources\u001b[0m\u001b[0;34m,\u001b[0m \u001b[0mskipped\u001b[0m\u001b[0;34m\u001b[0m\u001b[0;34m\u001b[0m\u001b[0m\n",
      "\u001b[0;32m~/.conda/envs/astro-det-scarlet2/lib/python3.7/site-packages/scarlet-1.0.1+gfde109a-py3.7-linux-ppc64le.egg/scarlet/initialization.py\u001b[0m in \u001b[0;36mset_spectra_to_match\u001b[0;34m(sources, observations)\u001b[0m\n\u001b[1;32m    550\u001b[0m             \u001b[0mim\u001b[0m \u001b[0;34m=\u001b[0m \u001b[0mimages\u001b[0m\u001b[0;34m[\u001b[0m\u001b[0mc\u001b[0m\u001b[0;34m]\u001b[0m\u001b[0;34m.\u001b[0m\u001b[0mreshape\u001b[0m\u001b[0;34m(\u001b[0m\u001b[0;34m-\u001b[0m\u001b[0;36m1\u001b[0m\u001b[0;34m)\u001b[0m\u001b[0;34m\u001b[0m\u001b[0;34m\u001b[0m\u001b[0m\n\u001b[1;32m    551\u001b[0m             \u001b[0mw\u001b[0m \u001b[0;34m=\u001b[0m \u001b[0mweights\u001b[0m\u001b[0;34m[\u001b[0m\u001b[0mc\u001b[0m\u001b[0;34m]\u001b[0m\u001b[0;34m.\u001b[0m\u001b[0mreshape\u001b[0m\u001b[0;34m(\u001b[0m\u001b[0;34m-\u001b[0m\u001b[0;36m1\u001b[0m\u001b[0;34m)\u001b[0m\u001b[0;34m\u001b[0m\u001b[0;34m\u001b[0m\u001b[0m\n\u001b[0;32m--> 552\u001b[0;31m             \u001b[0mm\u001b[0m \u001b[0;34m=\u001b[0m \u001b[0mmorphs\u001b[0m\u001b[0;34m[\u001b[0m\u001b[0;34m:\u001b[0m\u001b[0;34m,\u001b[0m \u001b[0mc\u001b[0m\u001b[0;34m,\u001b[0m \u001b[0;34m:\u001b[0m\u001b[0;34m,\u001b[0m \u001b[0;34m:\u001b[0m\u001b[0;34m]\u001b[0m\u001b[0;34m.\u001b[0m\u001b[0mreshape\u001b[0m\u001b[0;34m(\u001b[0m\u001b[0mK\u001b[0m\u001b[0;34m,\u001b[0m \u001b[0;34m-\u001b[0m\u001b[0;36m1\u001b[0m\u001b[0;34m)\u001b[0m\u001b[0;34m\u001b[0m\u001b[0;34m\u001b[0m\u001b[0m\n\u001b[0m\u001b[1;32m    553\u001b[0m             \u001b[0mcovar\u001b[0m \u001b[0;34m=\u001b[0m \u001b[0mnp\u001b[0m\u001b[0;34m.\u001b[0m\u001b[0mlinalg\u001b[0m\u001b[0;34m.\u001b[0m\u001b[0minv\u001b[0m\u001b[0;34m(\u001b[0m\u001b[0;34m(\u001b[0m\u001b[0mm\u001b[0m \u001b[0;34m*\u001b[0m \u001b[0mw\u001b[0m\u001b[0;34m[\u001b[0m\u001b[0;32mNone\u001b[0m\u001b[0;34m,\u001b[0m \u001b[0;34m:\u001b[0m\u001b[0;34m]\u001b[0m\u001b[0;34m)\u001b[0m \u001b[0;34m@\u001b[0m \u001b[0mm\u001b[0m\u001b[0;34m.\u001b[0m\u001b[0mT\u001b[0m\u001b[0;34m)\u001b[0m\u001b[0;34m\u001b[0m\u001b[0;34m\u001b[0m\u001b[0m\n\u001b[1;32m    554\u001b[0m             \u001b[0mspectra\u001b[0m\u001b[0;34m[\u001b[0m\u001b[0;34m:\u001b[0m\u001b[0;34m,\u001b[0m \u001b[0mc\u001b[0m\u001b[0;34m]\u001b[0m \u001b[0;34m=\u001b[0m \u001b[0mcovar\u001b[0m \u001b[0;34m@\u001b[0m \u001b[0mm\u001b[0m \u001b[0;34m@\u001b[0m \u001b[0;34m(\u001b[0m\u001b[0mim\u001b[0m \u001b[0;34m*\u001b[0m \u001b[0mw\u001b[0m\u001b[0;34m)\u001b[0m\u001b[0;34m\u001b[0m\u001b[0;34m\u001b[0m\u001b[0m\n",
      "\u001b[0;31mIndexError\u001b[0m: too many indices for array: array is 1-dimensional, but 4 were indexed"
     ]
    }
   ],
   "source": [
    "sources, skipped = scarlet.initialization.init_all_sources(model_frame, \n",
    "                                                           centers, \n",
    "                                                           observation, \n",
    "                                                           max_components=2, \n",
    "                                                           min_snr=50,\n",
    "                                                           thresh=1,\n",
    "                                                           fallback=True,\n",
    "                                                           silent=True,\n",
    "                                                           set_spectra=True\n",
    "                                                          )\n",
    "\n",
    "for k, src in enumerate(sources):\n",
    "    print (f\"{k}: {src.__class__.__name__}\")"
   ]
  },
  {
   "cell_type": "code",
   "execution_count": null,
   "metadata": {},
   "outputs": [],
   "source": []
  },
  {
   "cell_type": "code",
   "execution_count": null,
   "metadata": {},
   "outputs": [],
   "source": []
  },
  {
   "cell_type": "markdown",
   "metadata": {},
   "source": [
    "# Create and Fit Model"
   ]
  },
  {
   "cell_type": "code",
   "execution_count": null,
   "metadata": {},
   "outputs": [],
   "source": [
    "#blend = scarlet.Blend(sources, observation)\n",
    "#%time it, logL = blend.fit(100, e_rel=1e-4)\n",
    "#print(f\"scarlet ran for {it} iterations to logL = {logL}\")\n",
    "#scarlet.display.show_likelihood(blend)\n",
    "#plt.show()"
   ]
  }
 ],
 "metadata": {
  "kernelspec": {
   "display_name": "Python 3",
   "language": "python",
   "name": "python3"
  },
  "language_info": {
   "codemirror_mode": {
    "name": "ipython",
    "version": 3
   },
   "file_extension": ".py",
   "mimetype": "text/x-python",
   "name": "python",
   "nbconvert_exporter": "python",
   "pygments_lexer": "ipython3",
   "version": "3.7.6"
  }
 },
 "nbformat": 4,
 "nbformat_minor": 4
}
